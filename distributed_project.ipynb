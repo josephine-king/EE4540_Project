{
 "cells": [
  {
   "cell_type": "markdown",
   "metadata": {},
   "source": [
    "**Import libraries and define system parameters**"
   ]
  },
  {
   "cell_type": "code",
   "metadata": {},
   "source": [
    "import numpy as np\n",
    "import matplotlib.pyplot as plt\n",
    "from utils import calculate_num_sensors, calculate_graph_matrices, is_graph_connected, get_field_function, get_sensor_measurements, visualize_graphs\n",
    "from utils import calculate_error\n",
    "\n",
    "FIELD_SIZE = 100\n",
    "FIELD_RANGE = np.array([[0, FIELD_SIZE], [0, FIELD_SIZE]]) \n",
    "field_function = get_field_function()\n",
    "\n",
    "COMM_RANGE = 30\n",
    "NUM_SENSORS = calculate_num_sensors(COMM_RANGE, FIELD_SIZE, 2)\n",
    "print(\"Selected number of sensors:\", NUM_SENSORS)"
   ],
   "outputs": [],
   "execution_count": null
  },
  {
   "cell_type": "markdown",
   "metadata": {},
   "source": [
    "**Generate random graph**"
   ]
  },
  {
   "cell_type": "code",
   "metadata": {},
   "source": [
    "# Set random seed for reproducibiliy\n",
    "np.random.seed(0)\n",
    "\n",
    "# Randomly generate sensor locations within the field\n",
    "sensor_locations = np.array([np.random.uniform(FIELD_RANGE[0,0], FIELD_RANGE[0,1], NUM_SENSORS),\n",
    "                            np.random.uniform(FIELD_RANGE[1,0], FIELD_RANGE[1,1], NUM_SENSORS)])\n",
    "\n",
    "# Calculate the adjacency matrix, degree matrix, and Laplacian matrix\n",
    "adjacency_matrix, degree_matrix, laplacian_matrix = calculate_graph_matrices(sensor_locations, COMM_RANGE)\n",
    "# Determine if the graph is connected\n",
    "if not is_graph_connected(laplacian_matrix):\n",
    "    print(\"Warning: The graph is not connected.\")\n",
    "else:\n",
    "    print(\"The graph is connected.\")\n",
    "\n",
    "# Generate sensor measurements from the field function\n",
    "sensor_measurements = get_sensor_measurements(sensor_locations, field_function, 0)\n",
    "average_temperature = np.mean(sensor_measurements)\n",
    "print(\"Average temperature:\", \"{:.2f}\".format(average_temperature), \"C\")\n",
    "\n",
    "# Visualize the sensor locations and the communication graph\n",
    "visualize_graphs(sensor_locations, adjacency_matrix, field_function, sensor_measurements)"
   ],
   "outputs": [],
   "execution_count": null
  },
  {
   "cell_type": "markdown",
   "metadata": {},
   "source": [
    "**Randomized Gossip**"
   ]
  },
  {
   "cell_type": "code",
   "metadata": {},
   "source": [
    "# Implements the randomized gossip algorithm for the specified number of iterations\n",
    "def randomized_gossip(adjacency_matrix, sensor_measurements, num_iter):\n",
    "    num_sensors = adjacency_matrix.shape[0]\n",
    "    error_vals = []\n",
    "    true_average = np.mean(sensor_measurements) * np.ones(num_sensors)\n",
    "    est_average = sensor_measurements.copy()\n",
    "    \n",
    "    for iter in range(0, num_iter):\n",
    "        # Randomly choose a sensor\n",
    "        i = np.random.randint(0, num_sensors)\n",
    "        # Randomly choose a neighbor \n",
    "        # TODO: find the P matrix that will optimize the gossip algorithm\n",
    "        j = np.random.choice(np.where(adjacency_matrix[i] > 0)[0])\n",
    "        # Compute the average of the two selected sensors\n",
    "        average_val = 0.5*(est_average[i] + est_average[j])\n",
    "        est_average[i] = average_val\n",
    "        est_average[j] = average_val\n",
    "        # Calculate the error\n",
    "        error_val = calculate_error(est_average, true_average)\n",
    "        error_vals.append(error_val)\n",
    "\n",
    "    return error_vals, est_average\n",
    "\n",
    "error_vals, est_average = randomized_gossip(adjacency_matrix, sensor_measurements, 30000)\n",
    "plt.semilogy(error_vals)\n",
    "plt.grid(True)\n",
    "plt.xlabel(\"Iteration\")\n",
    "plt.ylabel(\"Normalized Error ||(x_{est} - x_{true}||_2/||x_{true}||_2\")\n",
    "plt.title(\"Randomized Gossip Algorithm: Error vs Iteration\")"
   ],
   "outputs": [],
   "execution_count": null
  }
 ],
 "metadata": {
  "kernelspec": {
   "display_name": "ics",
   "language": "python",
   "name": "python3"
  },
  "language_info": {
   "codemirror_mode": {
    "name": "ipython",
    "version": 3
   },
   "file_extension": ".py",
   "mimetype": "text/x-python",
   "name": "python",
   "nbconvert_exporter": "python",
   "pygments_lexer": "ipython3",
   "version": "3.11.12"
  }
 },
 "nbformat": 4,
 "nbformat_minor": 2
}
